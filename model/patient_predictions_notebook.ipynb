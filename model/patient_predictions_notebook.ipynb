{
 "cells": [
  {
   "cell_type": "code",
   "execution_count": 1,
   "metadata": {
    "collapsed": true
   },
   "outputs": [
    {
     "name": "stdout",
     "output_type": "stream",
     "text": [
      "Requirement already satisfied: pandas in /Users/wadewilson/opt/anaconda3/envs/Healthcare_Analytics/lib/python3.10/site-packages (2.0.3)\r\n",
      "\u001B[31mERROR: Could not find a version that satisfies the requirement as (from versions: none)\u001B[0m\u001B[31m\r\n",
      "\u001B[0m\u001B[31mERROR: No matching distribution found for as\u001B[0m\u001B[31m\r\n",
      "\u001B[0mRequirement already satisfied: scikit-learn in /Users/wadewilson/opt/anaconda3/envs/Healthcare_Analytics/lib/python3.10/site-packages (1.3.0)\r\n",
      "Requirement already satisfied: numpy>=1.17.3 in /Users/wadewilson/opt/anaconda3/envs/Healthcare_Analytics/lib/python3.10/site-packages (from scikit-learn) (1.25.2)\r\n",
      "Requirement already satisfied: scipy>=1.5.0 in /Users/wadewilson/opt/anaconda3/envs/Healthcare_Analytics/lib/python3.10/site-packages (from scikit-learn) (1.11.1)\r\n",
      "Requirement already satisfied: joblib>=1.1.1 in /Users/wadewilson/opt/anaconda3/envs/Healthcare_Analytics/lib/python3.10/site-packages (from scikit-learn) (1.3.0)\r\n",
      "Requirement already satisfied: threadpoolctl>=2.0.0 in /Users/wadewilson/opt/anaconda3/envs/Healthcare_Analytics/lib/python3.10/site-packages (from scikit-learn) (3.2.0)\r\n"
     ]
    }
   ],
   "source": [
    "!pip3 install pandas as pd\n",
    "!pip3 install scikit-learn"
   ]
  },
  {
   "cell_type": "code",
   "execution_count": 2,
   "outputs": [],
   "source": [
    "import pandas as pd\n",
    "from sklearn.model_selection import train_test_split\n",
    "from sklearn.ensemble import RandomForestClassifier\n",
    "from sklearn.metrics import accuracy_score"
   ],
   "metadata": {
    "collapsed": false
   }
  },
  {
   "cell_type": "code",
   "execution_count": null,
   "outputs": [],
   "source": [
    "not_my_data = set(globals())\n",
    "\n",
    "# Declare some global variables\n",
    "foo5 = \"hii\"\n",
    "foo6 = 7\n",
    "\n",
    "not_my_data\n"
   ],
   "metadata": {
    "collapsed": false
   }
  },
  {
   "cell_type": "code",
   "execution_count": 3,
   "outputs": [
    {
     "name": "stdout",
     "output_type": "stream",
     "text": [
      "Accuracy scoring: 0.9\n",
      "Actual values: [0, 0, 1, 0, 0, 1, 0, 1, 1, 1]\n",
      "Predicted values: [0, 0, 1, 0, 0, 1, 0, 1, 1, 0]\n",
      "\n",
      "Out of 10 test cases, the model correctly predicted 9 cases, with an accuracy of 90.0%.\n",
      "\n",
      "Prediction results for each patient in the test set:\n",
      "Patient 1: Predicted to not miss the appointment. Actual status: not missed.\n",
      "Patient 2: Predicted to not miss the appointment. Actual status: not missed.\n",
      "Patient 3: Predicted to miss the appointment. Actual status: missed.\n",
      "Patient 4: Predicted to not miss the appointment. Actual status: not missed.\n",
      "Patient 5: Predicted to not miss the appointment. Actual status: not missed.\n",
      "Patient 6: Predicted to miss the appointment. Actual status: missed.\n",
      "Patient 7: Predicted to not miss the appointment. Actual status: not missed.\n",
      "Patient 8: Predicted to miss the appointment. Actual status: missed.\n",
      "Patient 9: Predicted to miss the appointment. Actual status: missed.\n",
      "Patient 10: Predicted to not miss the appointment. Actual status: missed.\n"
     ]
    }
   ],
   "source": [
    "\n",
    "\n",
    "# TODO paramerize 'random_state' v1\n",
    "# TODO once paramerized move 'random_state' into .yaml\n",
    "# TODO\n",
    "# TODO update model prediction based on input values gatherd from user\n",
    "# Load and preprocess data (age, income, distance, missed_appointments)\n",
    "data = pd.read_csv(\"../data/patient_HEDIC_appointment_demo.csv\")\n",
    "X = data.drop(\"patient_missed_appointments\", axis=1)\n",
    "y = data[\"patient_missed_appointments\"]\n",
    "X_train, X_test, y_train, y_test = train_test_split(\n",
    "    X, y, test_size=0.2, random_state=42\n",
    ")\n",
    "\n",
    "\n",
    "# Train a RandomForestClassifier\n",
    "clf = RandomForestClassifier(random_state=42)\n",
    "clf.fit(X_train, y_train)\n",
    "\n",
    "# Predict on test data\n",
    "y_pred = clf.predict(X_test)\n",
    "\n",
    "# Calculate accuracy\n",
    "accuracy = accuracy_score(y_test, y_pred)\n",
    "print(f\"Accuracy scoring: {accuracy}\")\n",
    "\n",
    "# Print the actual and predicted values\n",
    "print(\"Actual values:\", list(y_test))\n",
    "print(\"Predicted values:\", list(y_pred))\n",
    "\n",
    "# Print a summary of the results\n",
    "print(\n",
    "    f\"\\nOut of {len(y_test)} test cases, the model correctly predicted {int(accuracy * len(y_test))} cases, with an accuracy of {accuracy * 100}%.\"\n",
    ")\n",
    "\n",
    "# Print predictions for each patient\n",
    "print(\"\\nPrediction results for each patient in the test set:\")\n",
    "for i, (actual, predicted) in enumerate(zip(y_test, y_pred)):\n",
    "    appointment_status = \"miss\" if predicted == 1 else \"not miss\"\n",
    "    print(\n",
    "        f\"Patient {i + 1}: Predicted to {appointment_status} the appointment. Actual status: {'missed' if actual == 1 else 'not missed'}.\"\n",
    "    )\n"
   ],
   "metadata": {
    "collapsed": false
   }
  },
  {
   "cell_type": "code",
   "execution_count": 4,
   "outputs": [
    {
     "data": {
      "text/plain": "{'In',\n 'Out',\n 'RandomForestClassifier',\n 'X',\n 'X_test',\n 'X_train',\n '_',\n '__',\n '___',\n '__builtin__',\n '__builtins__',\n '__doc__',\n '__loader__',\n '__name__',\n '__package__',\n '__session__',\n '__spec__',\n '_dh',\n '_exit_code',\n '_i',\n '_i1',\n '_i2',\n '_i3',\n '_i4',\n '_ih',\n '_ii',\n '_iii',\n '_oh',\n '_pydevd_bundle',\n 'accuracy',\n 'accuracy_score',\n 'actual',\n 'appointment_status',\n 'clf',\n 'data',\n 'exit',\n 'foo5',\n 'foo6',\n 'get_ipython',\n 'i',\n 'not_my_data',\n 'open',\n 'pd',\n 'predicted',\n 'pydev_jupyter_vars',\n 'quit',\n 'remove_imported_pydev_package',\n 'sys',\n 'train_test_split',\n 'y',\n 'y_pred',\n 'y_test',\n 'y_train'}"
     },
     "execution_count": 4,
     "metadata": {},
     "output_type": "execute_result"
    }
   ],
   "source": [
    "not_my_data = set(globals())\n",
    "\n",
    "# Declare some global variables\n",
    "foo5 = \"hii\"\n",
    "foo6 = 7\n",
    "\n",
    "# global listing of parameters\n",
    "not_my_data\n"
   ],
   "metadata": {
    "collapsed": false
   }
  }
 ],
 "metadata": {
  "kernelspec": {
   "display_name": "Python 3",
   "language": "python",
   "name": "python3"
  },
  "language_info": {
   "codemirror_mode": {
    "name": "ipython",
    "version": 2
   },
   "file_extension": ".py",
   "mimetype": "text/x-python",
   "name": "python",
   "nbconvert_exporter": "python",
   "pygments_lexer": "ipython2",
   "version": "2.7.6"
  }
 },
 "nbformat": 4,
 "nbformat_minor": 0
}
